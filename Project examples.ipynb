{
 "cells": [
  {
   "cell_type": "markdown",
   "metadata": {},
   "source": [
    "# Progress report code"
   ]
  },
  {
   "cell_type": "code",
   "execution_count": 1,
   "metadata": {},
   "outputs": [],
   "source": [
    "import numpy as np\n",
    "import sklearn.manifold as mf\n",
    "import matplotlib.pyplot as plt\n",
    "from mpl_toolkits.mplot3d import Axes3D\n",
    "import pandas as pd\n",
    "import scipy.io\n",
    "\n",
    "%matplotlib widget"
   ]
  },
  {
   "cell_type": "markdown",
   "metadata": {},
   "source": [
    "This is complementary code for my progress report. The first part is the code used for generating the examples in the section of embedding manifold learning."
   ]
  },
  {
   "cell_type": "markdown",
   "metadata": {},
   "source": [
    "# Examples of manifold learning algorithms"
   ]
  },
  {
   "cell_type": "markdown",
   "metadata": {},
   "source": [
    "The codes in this section shows how some concrete manifold learning algorithms perform on some synthetic datasets."
   ]
  },
  {
   "cell_type": "code",
   "execution_count": 2,
   "metadata": {},
   "outputs": [],
   "source": [
    "from sklearn import datasets"
   ]
  },
  {
   "cell_type": "markdown",
   "metadata": {},
   "source": [
    "### Swiss roll"
   ]
  },
  {
   "cell_type": "code",
   "execution_count": 3,
   "metadata": {},
   "outputs": [],
   "source": [
    "n_points = 1500\n",
    "swiss_roll, swiss_roll_color = datasets.make_swiss_roll(n_samples = n_points)"
   ]
  },
  {
   "cell_type": "code",
   "execution_count": 4,
   "metadata": {},
   "outputs": [
    {
     "data": {
      "application/vnd.jupyter.widget-view+json": {
       "model_id": "90c939518714451da8e6280acca5f8cc",
       "version_major": 2,
       "version_minor": 0
      },
      "text/plain": [
       "Canvas(toolbar=Toolbar(toolitems=[('Home', 'Reset original view', 'home', 'home'), ('Back', 'Back to previous …"
      ]
     },
     "metadata": {},
     "output_type": "display_data"
    },
    {
     "data": {
      "text/plain": [
       "Text(0.5, 0.98, 'Swiss roll')"
      ]
     },
     "execution_count": 4,
     "metadata": {},
     "output_type": "execute_result"
    }
   ],
   "source": [
    "fig = plt.figure()\n",
    "ax = fig.add_subplot(111,projection='3d')\n",
    "ax.scatter(*swiss_roll.T, c = swiss_roll_color)\n",
    "fig.suptitle('Swiss roll')"
   ]
  },
  {
   "cell_type": "code",
   "execution_count": 5,
   "metadata": {},
   "outputs": [],
   "source": [
    "iso_emb = mf.Isomap(n_components=2, n_neighbors=12)"
   ]
  },
  {
   "cell_type": "code",
   "execution_count": 6,
   "metadata": {},
   "outputs": [],
   "source": [
    "iso_emb_swiss_roll = iso_emb.fit_transform(swiss_roll)"
   ]
  },
  {
   "cell_type": "code",
   "execution_count": 7,
   "metadata": {},
   "outputs": [
    {
     "data": {
      "application/vnd.jupyter.widget-view+json": {
       "model_id": "ee67ef99e3b645a18dae4fe109dfac76",
       "version_major": 2,
       "version_minor": 0
      },
      "text/plain": [
       "Canvas(toolbar=Toolbar(toolitems=[('Home', 'Reset original view', 'home', 'home'), ('Back', 'Back to previous …"
      ]
     },
     "metadata": {},
     "output_type": "display_data"
    },
    {
     "data": {
      "text/plain": [
       "Text(0, 0.5, 'Swiss Roll')"
      ]
     },
     "execution_count": 7,
     "metadata": {},
     "output_type": "execute_result"
    }
   ],
   "source": [
    "fig,ax = plt.subplots()\n",
    "ax.scatter(*iso_emb_swiss_roll.T,c=swiss_roll_color)\n",
    "fig.suptitle('ISOMAP')\n",
    "ax.set_ylabel('Swiss Roll', fontsize = 'large')"
   ]
  },
  {
   "cell_type": "code",
   "execution_count": 8,
   "metadata": {},
   "outputs": [],
   "source": [
    "lle = mf.LocallyLinearEmbedding(n_components=2,n_neighbors=12)\n",
    "lle_emb_swiss_roll = lle.fit_transform(swiss_roll)"
   ]
  },
  {
   "cell_type": "code",
   "execution_count": 9,
   "metadata": {},
   "outputs": [
    {
     "data": {
      "application/vnd.jupyter.widget-view+json": {
       "model_id": "f58a11e9fee5488bb25068541539ac67",
       "version_major": 2,
       "version_minor": 0
      },
      "text/plain": [
       "Canvas(toolbar=Toolbar(toolitems=[('Home', 'Reset original view', 'home', 'home'), ('Back', 'Back to previous …"
      ]
     },
     "metadata": {},
     "output_type": "display_data"
    },
    {
     "data": {
      "text/plain": [
       "Text(0.5, 0.98, 'LLE')"
      ]
     },
     "execution_count": 9,
     "metadata": {},
     "output_type": "execute_result"
    }
   ],
   "source": [
    "fig,ax= plt.subplots()\n",
    "ax.scatter(*lle_emb_swiss_roll.T, c= swiss_roll_color)\n",
    "fig.suptitle('LLE')"
   ]
  },
  {
   "cell_type": "code",
   "execution_count": 10,
   "metadata": {},
   "outputs": [],
   "source": [
    "tsne = mf.TSNE(n_components=2)\n",
    "tsne_emb_swiss_roll = tsne.fit_transform(swiss_roll)"
   ]
  },
  {
   "cell_type": "code",
   "execution_count": 11,
   "metadata": {},
   "outputs": [
    {
     "data": {
      "application/vnd.jupyter.widget-view+json": {
       "model_id": "aa67f82a2ded46788115fd3ee13f228e",
       "version_major": 2,
       "version_minor": 0
      },
      "text/plain": [
       "Canvas(toolbar=Toolbar(toolitems=[('Home', 'Reset original view', 'home', 'home'), ('Back', 'Back to previous …"
      ]
     },
     "metadata": {},
     "output_type": "display_data"
    },
    {
     "data": {
      "text/plain": [
       "Text(0.5, 0.98, 't-SNE')"
      ]
     },
     "execution_count": 11,
     "metadata": {},
     "output_type": "execute_result"
    }
   ],
   "source": [
    "fig,ax = plt.subplots()\n",
    "ax.scatter(*tsne_emb_swiss_roll.T, c = swiss_roll_color)\n",
    "fig.suptitle('t-SNE')"
   ]
  },
  {
   "cell_type": "markdown",
   "metadata": {},
   "source": [
    "### A manifold with non-zero gauss curvature"
   ]
  },
  {
   "cell_type": "code",
   "execution_count": 12,
   "metadata": {},
   "outputs": [],
   "source": [
    "no_points = 1000\n",
    "pre_cir = np.random.uniform([-1,-1,-1],[1,1,1], (no_points,3))\n",
    "sphere = np.divide(pre_cir, np.linalg.norm(pre_cir,axis=1)[:,np.newaxis])\n",
    "part_sphere= sphere[sphere[:,2]>-0.5]\n",
    "\n",
    "sphere_color = part_sphere[:,2]"
   ]
  },
  {
   "cell_type": "code",
   "execution_count": 13,
   "metadata": {
    "scrolled": true
   },
   "outputs": [
    {
     "data": {
      "application/vnd.jupyter.widget-view+json": {
       "model_id": "a745a9b7b0e048bfa9064373b998d9ac",
       "version_major": 2,
       "version_minor": 0
      },
      "text/plain": [
       "Canvas(toolbar=Toolbar(toolitems=[('Home', 'Reset original view', 'home', 'home'), ('Back', 'Back to previous …"
      ]
     },
     "metadata": {},
     "output_type": "display_data"
    },
    {
     "data": {
      "text/plain": [
       "Text(0.5, 0.98, 'Part of a sphere')"
      ]
     },
     "execution_count": 13,
     "metadata": {},
     "output_type": "execute_result"
    }
   ],
   "source": [
    "fig=plt.figure()\n",
    "ax = fig.add_subplot(111,projection='3d')\n",
    "ax.scatter(*part_sphere.T, c=sphere_color)\n",
    "fig.suptitle('Part of a sphere')"
   ]
  },
  {
   "cell_type": "code",
   "execution_count": 14,
   "metadata": {},
   "outputs": [],
   "source": [
    "iso_emb_part_sphere = iso_emb.fit_transform(part_sphere)"
   ]
  },
  {
   "cell_type": "code",
   "execution_count": 15,
   "metadata": {
    "scrolled": true
   },
   "outputs": [
    {
     "data": {
      "application/vnd.jupyter.widget-view+json": {
       "model_id": "d459db7127a741e8af1646acf0897add",
       "version_major": 2,
       "version_minor": 0
      },
      "text/plain": [
       "Canvas(toolbar=Toolbar(toolitems=[('Home', 'Reset original view', 'home', 'home'), ('Back', 'Back to previous …"
      ]
     },
     "metadata": {},
     "output_type": "display_data"
    },
    {
     "data": {
      "text/plain": [
       "Text(0, 0.5, 'Part of sphere')"
      ]
     },
     "execution_count": 15,
     "metadata": {},
     "output_type": "execute_result"
    }
   ],
   "source": [
    "fig,ax = plt.subplots()\n",
    "ax.scatter(*iso_emb_part_sphere.T,c=sphere_color)\n",
    "ax.set_ylabel('Part of sphere',fontsize='large')"
   ]
  },
  {
   "cell_type": "code",
   "execution_count": 16,
   "metadata": {},
   "outputs": [],
   "source": [
    "lle_emb_part_sphere = lle.fit_transform(part_sphere)"
   ]
  },
  {
   "cell_type": "code",
   "execution_count": 17,
   "metadata": {},
   "outputs": [
    {
     "data": {
      "application/vnd.jupyter.widget-view+json": {
       "model_id": "f19fd72b6e194672bf69933ca23d167b",
       "version_major": 2,
       "version_minor": 0
      },
      "text/plain": [
       "Canvas(toolbar=Toolbar(toolitems=[('Home', 'Reset original view', 'home', 'home'), ('Back', 'Back to previous …"
      ]
     },
     "metadata": {},
     "output_type": "display_data"
    },
    {
     "data": {
      "text/plain": [
       "<matplotlib.collections.PathCollection at 0x1f3fb5ffdc8>"
      ]
     },
     "execution_count": 17,
     "metadata": {},
     "output_type": "execute_result"
    }
   ],
   "source": [
    "fig,ax = plt.subplots()\n",
    "ax.scatter(*lle_emb_part_sphere.T, c = sphere_color)"
   ]
  },
  {
   "cell_type": "code",
   "execution_count": 18,
   "metadata": {
    "scrolled": true
   },
   "outputs": [
    {
     "data": {
      "application/vnd.jupyter.widget-view+json": {
       "model_id": "5805af7a5458457ca2be8fa306859497",
       "version_major": 2,
       "version_minor": 0
      },
      "text/plain": [
       "Canvas(toolbar=Toolbar(toolitems=[('Home', 'Reset original view', 'home', 'home'), ('Back', 'Back to previous …"
      ]
     },
     "metadata": {},
     "output_type": "display_data"
    },
    {
     "data": {
      "text/plain": [
       "<matplotlib.collections.PathCollection at 0x1f3fb64e808>"
      ]
     },
     "execution_count": 18,
     "metadata": {},
     "output_type": "execute_result"
    }
   ],
   "source": [
    "tsne_emb_part_sphere = tsne.fit_transform(part_sphere)\n",
    "fig,ax = plt.subplots()\n",
    "ax.scatter(*tsne_emb_part_sphere.T, c = sphere_color)"
   ]
  },
  {
   "cell_type": "markdown",
   "metadata": {},
   "source": [
    "### A non-uniformly distributed manifold"
   ]
  },
  {
   "cell_type": "code",
   "execution_count": 19,
   "metadata": {},
   "outputs": [],
   "source": [
    "no_point_cluster = 200\n",
    "cluster_1 = 0.3*np.array([np.random.standard_normal(no_point_cluster),np.random.standard_normal(no_point_cluster)])\n",
    "cluster_2 = 0.3*np.array([np.random.standard_normal(no_point_cluster),np.random.standard_normal(no_point_cluster)])\n",
    "cluster_3 = 0.3*np.array([np.random.standard_normal(no_point_cluster),np.random.standard_normal(no_point_cluster)])"
   ]
  },
  {
   "cell_type": "code",
   "execution_count": 20,
   "metadata": {},
   "outputs": [],
   "source": [
    "mask1 = cluster_1[0]**2+ cluster_1[1]**2 <=1\n",
    "mask2 = cluster_2[0]**2 + cluster_2[1]**2 <= 1\n",
    "mask3 = cluster_3[0]**2 + cluster_3[1]**2 <= 1"
   ]
  },
  {
   "cell_type": "code",
   "execution_count": 21,
   "metadata": {},
   "outputs": [],
   "source": [
    "cluster_1_valid = cluster_1[:,mask1]\n",
    "cluster_2_valid = cluster_2[:,mask2]\n",
    "cluster_3_valid = cluster_3[:,mask3]"
   ]
  },
  {
   "cell_type": "code",
   "execution_count": 22,
   "metadata": {},
   "outputs": [],
   "source": [
    "z1 = np.array([np.sqrt(1- cluster_1_valid[0]**2-cluster_1_valid[1]**2)])\n",
    "z2 = np.sqrt(1- cluster_2_valid[0]**2-cluster_2_valid[1]**2)\n",
    "z3 = np.sqrt(1- cluster_3_valid[0]**2-cluster_3_valid[1]**2)"
   ]
  },
  {
   "cell_type": "code",
   "execution_count": 23,
   "metadata": {},
   "outputs": [],
   "source": [
    "s_cluster_1 = np.vstack((cluster_1_valid,z1))\n",
    "s_cluster_2 = np.vstack((cluster_2_valid,z2))\n",
    "s_cluster_3 = np.vstack((cluster_3_valid,z3))"
   ]
  },
  {
   "cell_type": "code",
   "execution_count": 24,
   "metadata": {},
   "outputs": [],
   "source": [
    "O1 = np.array([[np.cos(np.pi/8),0,np.sin(np.pi/8)],[0,1,0],[-np.sin(np.pi/4),0,np.cos(np.pi/8)]])\n",
    "O2 = np.array([[1,0,0],[0,np.cos(2/3*np.pi),-np.sin(2/3*np.pi)],[0,np.sin(2/3*np.pi),np.cos(2/3*np.pi)]])@np.array([[np.cos(np.pi/4),0,np.sin(np.pi/4)],[0,1,0],[-np.sin(np.pi/4),0,np.cos(np.pi/4)]])\n",
    "O3 = np.array([[1,0,0],[0,np.cos(-2/3*np.pi),-np.sin(-2/3*np.pi)],[0,np.sin(-2/3*np.pi),np.cos(-2/3*np.pi)]])@np.array([[np.cos(np.pi/4),0,np.sin(np.pi/4)],[0,1,0],[-np.sin(np.pi/4),0,np.cos(np.pi/4)]])"
   ]
  },
  {
   "cell_type": "code",
   "execution_count": 25,
   "metadata": {},
   "outputs": [],
   "source": [
    "color = np.concatenate((np.ones(z1.shape[1]),np.ones(len(z2))+1,np.ones(len(z3))+2))"
   ]
  },
  {
   "cell_type": "code",
   "execution_count": 26,
   "metadata": {},
   "outputs": [],
   "source": [
    "cluster_points = np.hstack((O1@s_cluster_1,O2@s_cluster_2, O3@s_cluster_3))"
   ]
  },
  {
   "cell_type": "code",
   "execution_count": 27,
   "metadata": {
    "scrolled": true
   },
   "outputs": [
    {
     "data": {
      "application/vnd.jupyter.widget-view+json": {
       "model_id": "d8f1e99ca8cd4af98fc29be70100cfe6",
       "version_major": 2,
       "version_minor": 0
      },
      "text/plain": [
       "Canvas(toolbar=Toolbar(toolitems=[('Home', 'Reset original view', 'home', 'home'), ('Back', 'Back to previous …"
      ]
     },
     "metadata": {},
     "output_type": "display_data"
    },
    {
     "data": {
      "text/plain": [
       "Text(0.5, 0.98, 'Clusters on a sphere')"
      ]
     },
     "execution_count": 27,
     "metadata": {},
     "output_type": "execute_result"
    }
   ],
   "source": [
    "fig = plt.figure()\n",
    "ax = fig.add_subplot(111,projection='3d')\n",
    "ax.scatter(*cluster_points, c= color)\n",
    "fig.suptitle('Clusters on a sphere')"
   ]
  },
  {
   "cell_type": "code",
   "execution_count": 28,
   "metadata": {},
   "outputs": [
    {
     "data": {
      "application/vnd.jupyter.widget-view+json": {
       "model_id": "37ae2521f39849e593d54daf89b92cf3",
       "version_major": 2,
       "version_minor": 0
      },
      "text/plain": [
       "Canvas(toolbar=Toolbar(toolitems=[('Home', 'Reset original view', 'home', 'home'), ('Back', 'Back to previous …"
      ]
     },
     "metadata": {},
     "output_type": "display_data"
    },
    {
     "data": {
      "text/plain": [
       "<matplotlib.collections.PathCollection at 0x1f3fd4d0208>"
      ]
     },
     "execution_count": 28,
     "metadata": {},
     "output_type": "execute_result"
    }
   ],
   "source": [
    "iso_emb_clusters = iso_emb.fit_transform(cluster_points.T)\n",
    "fig,ax = plt.subplots()\n",
    "ax.scatter(*iso_emb_clusters.T,c=color)"
   ]
  },
  {
   "cell_type": "code",
   "execution_count": 29,
   "metadata": {},
   "outputs": [
    {
     "data": {
      "application/vnd.jupyter.widget-view+json": {
       "model_id": "3d4d7e02dc074161971e8e789039e2a8",
       "version_major": 2,
       "version_minor": 0
      },
      "text/plain": [
       "Canvas(toolbar=Toolbar(toolitems=[('Home', 'Reset original view', 'home', 'home'), ('Back', 'Back to previous …"
      ]
     },
     "metadata": {},
     "output_type": "display_data"
    },
    {
     "data": {
      "text/plain": [
       "<matplotlib.collections.PathCollection at 0x1f3fbc9df08>"
      ]
     },
     "execution_count": 29,
     "metadata": {},
     "output_type": "execute_result"
    }
   ],
   "source": [
    "lle_emb_clusters = lle.fit_transform(cluster_points.T)\n",
    "fig, ax = plt.subplots()\n",
    "ax.scatter(*lle_emb_clusters.T,c = color)"
   ]
  },
  {
   "cell_type": "code",
   "execution_count": 30,
   "metadata": {},
   "outputs": [
    {
     "data": {
      "application/vnd.jupyter.widget-view+json": {
       "model_id": "dda94f48c6414350a57d4e41dbf9a624",
       "version_major": 2,
       "version_minor": 0
      },
      "text/plain": [
       "Canvas(toolbar=Toolbar(toolitems=[('Home', 'Reset original view', 'home', 'home'), ('Back', 'Back to previous …"
      ]
     },
     "metadata": {},
     "output_type": "display_data"
    },
    {
     "data": {
      "text/plain": [
       "<matplotlib.collections.PathCollection at 0x1f3fbd10b88>"
      ]
     },
     "execution_count": 30,
     "metadata": {},
     "output_type": "execute_result"
    }
   ],
   "source": [
    "tsne_emb_clusters = tsne.fit_transform(cluster_points.T)\n",
    "fig, ax = plt.subplots()\n",
    "ax.scatter(*tsne_emb_clusters.T,c=color)"
   ]
  },
  {
   "cell_type": "code",
   "execution_count": null,
   "metadata": {},
   "outputs": [],
   "source": []
  },
  {
   "cell_type": "markdown",
   "metadata": {},
   "source": [
    "# Tangent Spaces and fitting quadratic functions"
   ]
  },
  {
   "cell_type": "markdown",
   "metadata": {},
   "source": [
    "In the spring of 2020 I spend some time experimenting on fitting quadratic functions to simple manifold datasets, mostly a circle."
   ]
  },
  {
   "cell_type": "markdown",
   "metadata": {},
   "source": [
    "### The algorithm for fitting quadratic charts\n",
    "The first thing we explore is the idea of creating charts is the inverse of the orthorgonal projection down to the tangent space translated to the point. We restrict the functions to be quadratic functions.\n",
    "\n",
    "#### The method"
   ]
  },
  {
   "cell_type": "markdown",
   "metadata": {},
   "source": [
    "Given $D = \\{x_1,\\dots,x_m\\}\\subset \\mathbb{R}^D$ a data cloud on some manifold $M^d$, $d<<D$, we want to approximate a local chart around some point $x_0\\in D$. Assume $x_0 = 0$. Choose an $\\varepsilon>0$. Let\n",
    "$$ N_\\varepsilon(x_0) = \\{x\\in D : \\| x-x_0\\| <\\varepsilon\\}.$$\n",
    "Next we use PCA to estimate the tangent space for $M$ at $x_0$. To do this we find the egenvektors for the covariance matrix\n",
    "$$ C_{x_0,\\varepsilon} = \\sum_{x\\in N_\\varepsilon(x_0)} x^T x.$$\n",
    "\n",
    "Now the $d$ eigenvectors corresponding to the $d$ largest eigenvalues spand $\\tilde T_{x_0} M$, the estimated tangent space of $M$ at the point $x_0$.\n",
    "\n",
    "Next we project the points of $N_\\varepsilon(x_0)$ onto $\\tilde T_{x_0} M$. Let $P_{x_0}$ denote the projection matrix. Now we want to fit a function $f:\\tilde T_{x_0} M \\rightarrow M$ via the points\n",
    "$$ f(P_{x_0} x) = x \\quad \\forall x\\in N_\\varepsilon(x_0),$$\n",
    "under the constraints that $f$ is a quadratic function."
   ]
  },
  {
   "cell_type": "markdown",
   "metadata": {},
   "source": [
    "#### Functions"
   ]
  },
  {
   "cell_type": "code",
   "execution_count": 31,
   "metadata": {},
   "outputs": [],
   "source": [
    "# A method which returns the matrix for the quadratic approximation\n",
    "from itertools import combinations_with_replacement\n",
    "def q_vander(a):\n",
    "    m, n = a.shape\n",
    "    r = m * (m+1) // 2\n",
    "    out = np.empty((r + m + 1, n))\n",
    "    for i, j in enumerate(combinations_with_replacement(range(m),2)):\n",
    "        out[i] = a[j[0]] * a[j[1]]\n",
    "    out[r:-1, :] = a\n",
    "    out[-1, :] = 1\n",
    "    return out.T\n",
    "\n",
    "# Given datapoints, a basepoint, and a number ebs, if finds the points which has distance less than eps to the basepoint. \n",
    "def neighbourhood(data,base_pt,eps):\n",
    "    dist = np.apply_along_axis(np.linalg.norm, 0, data - base_pt)\n",
    "    near = data[:, dist < eps]\n",
    "    return near\n",
    "\n",
    "# Given datapoints and a basepoint, we fit a quadratic function to the points with distance less than eps to the basepoint. \n",
    "def quad_fit(data,base_pt,d,eps,s_values=False):\n",
    "    near = neighbourhood(data,base_pt,0.5)\n",
    "    u,s,vt = np.linalg.svd(near-near.mean(1,keepdims=True))\n",
    "    d_near = u.T @ (near-base_pt)\n",
    "    a,b = np.vsplit(d_near,[d])\n",
    "    x = q_vander(a)\n",
    "    y = b.T\n",
    "    koef = np.linalg.lstsq(x,y,rcond=None)[0]\n",
    "    if s_values == True:\n",
    "        return koef,u,s\n",
    "    return koef,u\n",
    "\n",
    "#Uniformly distributed points in a d-dimensional ball and radius eps. \n",
    "def d_ball(numPoints,d,eps):\n",
    "    u = np.random.normal(0,1,(d,numPoints))\n",
    "    norm = np.linalg.norm(u,axis = 0)\n",
    "    r = eps*np.random.random(numPoints)**(1.0/d)\n",
    "    points = (r*u)/norm\n",
    "    return points\n",
    "\n",
    "#Maps points to points on the chart on the manifold. \n",
    "def chart(base_pt,u,koef,points):\n",
    "    A = q_vander(points)\n",
    "    y = (A@koef).T\n",
    "    X = np.vstack((points,y))\n",
    "    return u@X + base_pt\n"
   ]
  },
  {
   "cell_type": "markdown",
   "metadata": {},
   "source": [
    "### Experimenting with the circle\n",
    "The experiments all started out in $\\mathbb R^2$ as it is then possible to visualise what is going on. They are performed on the unit circle as it is an curve with non-zero curvature which is easy to generate and understand."
   ]
  },
  {
   "cell_type": "code",
   "execution_count": 32,
   "metadata": {},
   "outputs": [],
   "source": [
    "# Input: The number of points we want to generate.\n",
    "# If plot=True the generated points are then plottet.\n",
    "# If plot=False the points are not plottet\n",
    "#Output: Points uniformly distributed on the unit circle.\n",
    "def gen_circle(numPoints,plot=True):\n",
    "    phi = 2*np.pi*np.random.random(numPoints)\n",
    "    phi.sort()\n",
    "\n",
    "    x = np.cos(phi)\n",
    "    y = np.sin(phi)\n",
    "    circle = np.vstack((x,y))\n",
    "    \n",
    "    if plot == True:\n",
    "        fig,ax = plt.subplots()\n",
    "        ax.axis('equal')\n",
    "        ax.scatter(*circle)\n",
    "    return circle"
   ]
  },
  {
   "cell_type": "code",
   "execution_count": 33,
   "metadata": {
    "scrolled": false
   },
   "outputs": [
    {
     "data": {
      "application/vnd.jupyter.widget-view+json": {
       "model_id": "e1b570d52c594457891ba0dbdff9afde",
       "version_major": 2,
       "version_minor": 0
      },
      "text/plain": [
       "Canvas(toolbar=Toolbar(toolitems=[('Home', 'Reset original view', 'home', 'home'), ('Back', 'Back to previous …"
      ]
     },
     "metadata": {},
     "output_type": "display_data"
    }
   ],
   "source": [
    "numPoints = 50\n",
    "circle = gen_circle(numPoints)"
   ]
  },
  {
   "cell_type": "code",
   "execution_count": 34,
   "metadata": {},
   "outputs": [],
   "source": [
    "test_point = np.array([[np.cos(np.pi/4)],[np.sin(np.pi/4)]])\n",
    "test_coef, test_U = quad_fit(circle,test_point,1,0.5)"
   ]
  },
  {
   "cell_type": "code",
   "execution_count": 35,
   "metadata": {},
   "outputs": [],
   "source": [
    "t_points = np.linspace(-1.5,1.5,50)[np.newaxis]"
   ]
  },
  {
   "cell_type": "code",
   "execution_count": 36,
   "metadata": {},
   "outputs": [
    {
     "data": {
      "text/plain": [
       "array([[ 1.05853853,  1.01533287,  0.97212722,  0.92892156,  0.88571591,\n",
       "         0.84251025,  0.7993046 ,  0.75609895,  0.71289329,  0.66968764,\n",
       "         0.62648198,  0.58327633,  0.54007068,  0.49686502,  0.45365937,\n",
       "         0.41045371,  0.36724806,  0.32404241,  0.28083675,  0.2376311 ,\n",
       "         0.19442544,  0.15121979,  0.10801414,  0.06480848,  0.02160283,\n",
       "        -0.02160283, -0.06480848, -0.10801414, -0.15121979, -0.19442544,\n",
       "        -0.2376311 , -0.28083675, -0.32404241, -0.36724806, -0.41045371,\n",
       "        -0.45365937, -0.49686502, -0.54007068, -0.58327633, -0.62648198,\n",
       "        -0.66968764, -0.71289329, -0.75609895, -0.7993046 , -0.84251025,\n",
       "        -0.88571591, -0.92892156, -0.97212722, -1.01533287, -1.05853853],\n",
       "       [-1.06277758, -1.01939891, -0.97602023, -0.93264155, -0.88926288,\n",
       "        -0.8458842 , -0.80250552, -0.75912684, -0.71574817, -0.67236949,\n",
       "        -0.62899081, -0.58561214, -0.54223346, -0.49885478, -0.45547611,\n",
       "        -0.41209743, -0.36871875, -0.32534008, -0.2819614 , -0.23858272,\n",
       "        -0.19520405, -0.15182537, -0.10844669, -0.06506802, -0.02168934,\n",
       "         0.02168934,  0.06506802,  0.10844669,  0.15182537,  0.19520405,\n",
       "         0.23858272,  0.2819614 ,  0.32534008,  0.36871875,  0.41209743,\n",
       "         0.45547611,  0.49885478,  0.54223346,  0.58561214,  0.62899081,\n",
       "         0.67236949,  0.71574817,  0.75912684,  0.80250552,  0.8458842 ,\n",
       "         0.88926288,  0.93264155,  0.97602023,  1.01939891,  1.06277758]])"
      ]
     },
     "execution_count": 36,
     "metadata": {},
     "output_type": "execute_result"
    }
   ],
   "source": [
    "test_U[:,[0]]@t_points"
   ]
  },
  {
   "cell_type": "code",
   "execution_count": 37,
   "metadata": {},
   "outputs": [],
   "source": [
    "pol_vals = np.vstack((t_points, (q_vander(t_points)@test_coef).T))"
   ]
  },
  {
   "cell_type": "code",
   "execution_count": 38,
   "metadata": {},
   "outputs": [
    {
     "data": {
      "application/vnd.jupyter.widget-view+json": {
       "model_id": "54f1ded0615c4bcdb2a8fb8649083717",
       "version_major": 2,
       "version_minor": 0
      },
      "text/plain": [
       "Canvas(toolbar=Toolbar(toolitems=[('Home', 'Reset original view', 'home', 'home'), ('Back', 'Back to previous …"
      ]
     },
     "metadata": {},
     "output_type": "display_data"
    },
    {
     "data": {
      "text/plain": [
       "<matplotlib.legend.Legend at 0x1f3fbd53688>"
      ]
     },
     "execution_count": 38,
     "metadata": {},
     "output_type": "execute_result"
    }
   ],
   "source": [
    "fig,ax = plt.subplots()\n",
    "ax.axis('equal')\n",
    "ax.scatter(*circle)\n",
    "ax.plot(*(test_U@pol_vals+test_point),color='lightcoral',label ='Quadratic chart')\n",
    "ax.plot(*(test_U[:,[0]]@t_points+test_point), color = 'aqua', label = 'Translated tangent space')\n",
    "ax.plot(*(test_U[:,[1]]@t_points+test_point), color = 'gold', label = 'Translated normal space')\n",
    "fig.legend()"
   ]
  },
  {
   "cell_type": "markdown",
   "metadata": {},
   "source": [
    "#### Fitting quadratic charts\n",
    "Using the procedure from above, the following method fits quadratic functions around all the points. "
   ]
  },
  {
   "cell_type": "code",
   "execution_count": 39,
   "metadata": {},
   "outputs": [],
   "source": [
    "# Input: 2d Datapoints, for which we want to fit quadratic functions\n",
    "# If plot = True the datapoints are plottet together with the functions fittet at each point\n",
    "# Output: Us - A 2x2 matric for each datapoint. Each matrix is the a onb for $\\mathbb R^2$ \n",
    "# with the first column  being in the tangent direction, and the second in the normal direction.\n",
    "# koefs - coefficients for the quadratic charts at each points. The coefficients are the for the map when the the \n",
    "# entire space has been rotatated such that the tangent space is parallel to the x-axis.\n",
    "def twod_local_charts(data, plot = True):\n",
    "    n = len(data[0])\n",
    "    koefs = np.zeros((3,n))\n",
    "    Us = np.zeros((2,2,n))\n",
    "\n",
    "    for i in range(n):\n",
    "        koefs[:,[i]], Us[:,:,i] = quad_fit(circle,circle[:,[i]],1,0.5)\n",
    "        \n",
    "    if plot == True:\n",
    "        t = np.linspace(-0.5,0.5,20)[np.newaxis,:]\n",
    "        X = q_vander(t)\n",
    "        A = X@koefs\n",
    "        new_pols = np.array([Us[:,:,i]@np.vstack((t,A[:,[i]].T)) for i in range(numPoints)])\n",
    "        fig,ax = plt.subplots()\n",
    "        ax.axis('equal')\n",
    "        ax.scatter(*circle, alpha=0.5)\n",
    "        for i in range(numPoints):\n",
    "            ax.plot(*new_pols[i]+circle[:,[i]])\n",
    "        return koefs, Us, new_pols\n",
    "    return koefs, Us"
   ]
  },
  {
   "cell_type": "code",
   "execution_count": 40,
   "metadata": {},
   "outputs": [
    {
     "data": {
      "application/vnd.jupyter.widget-view+json": {
       "model_id": "d97b328367f545188ed81fdc7de8eb96",
       "version_major": 2,
       "version_minor": 0
      },
      "text/plain": [
       "Canvas(toolbar=Toolbar(toolitems=[('Home', 'Reset original view', 'home', 'home'), ('Back', 'Back to previous …"
      ]
     },
     "metadata": {},
     "output_type": "display_data"
    }
   ],
   "source": [
    "koefs, Us, new_pols = twod_local_charts(circle)"
   ]
  },
  {
   "cell_type": "markdown",
   "metadata": {},
   "source": [
    "### Torus in $\\mathbb R^3$"
   ]
  },
  {
   "cell_type": "code",
   "execution_count": 41,
   "metadata": {},
   "outputs": [],
   "source": [
    "#This method generates uniformly distributed points on the torus.\n",
    "def sample_torus(numPoints,R,r): \n",
    "    torus = np.zeros((3,numPoints))\n",
    "    n=0\n",
    "    while n< numPoints:\n",
    "        U,V,W = np.random.random(3)\n",
    "        u = 2*np.pi*U\n",
    "        v = 2*np.pi*V\n",
    "        if W <= (R + r*np.cos(u))/(R+r):\n",
    "            torus[:,n] = np.array([(R+r*np.cos(u))*np.cos(v),(R+r*np.cos(u))*np.sin(v),r*np.sin(u)])\n",
    "            n += 1\n",
    "    return torus"
   ]
  },
  {
   "cell_type": "code",
   "execution_count": 42,
   "metadata": {},
   "outputs": [],
   "source": [
    "torus = sample_torus(1000,2,1)"
   ]
  },
  {
   "cell_type": "code",
   "execution_count": 43,
   "metadata": {},
   "outputs": [
    {
     "data": {
      "application/vnd.jupyter.widget-view+json": {
       "model_id": "a660910723c840d4b419262b753de335",
       "version_major": 2,
       "version_minor": 0
      },
      "text/plain": [
       "Canvas(toolbar=Toolbar(toolitems=[('Home', 'Reset original view', 'home', 'home'), ('Back', 'Back to previous …"
      ]
     },
     "metadata": {},
     "output_type": "display_data"
    },
    {
     "data": {
      "text/plain": [
       "<mpl_toolkits.mplot3d.art3d.Path3DCollection at 0x1f3ff6dba48>"
      ]
     },
     "execution_count": 43,
     "metadata": {},
     "output_type": "execute_result"
    }
   ],
   "source": [
    "fig = plt.figure()\n",
    "ax = fig.add_subplot(111,projection = '3d')\n",
    "ax.scatter(*torus)"
   ]
  },
  {
   "cell_type": "code",
   "execution_count": 44,
   "metadata": {},
   "outputs": [],
   "source": [
    "def torus_chart_learning(base_pt,eps1,eps2):\n",
    "    koef,u = quad_fit(torus,base_pt,2,eps1)\n",
    "    t = np.linspace(-eps2,eps2,10)[np.newaxis,:]\n",
    "    x,y = np.meshgrid(t,t)\n",
    "    D = np.vstack((x.flatten(),y.flatten()))\n",
    "    #points = chart(base_pt,u,koef,D)\n",
    "    #D = d_ball(20,2,eps2)\n",
    "    fit = chart(base_pt,u,koef,D)\n",
    "    X = fit[0].reshape((10,10))\n",
    "    Y = fit[1].reshape((10,10))\n",
    "    Z = fit[2].reshape((10,10))\n",
    "    return X,Y,Z"
   ]
  },
  {
   "cell_type": "code",
   "execution_count": 63,
   "metadata": {},
   "outputs": [
    {
     "name": "stderr",
     "output_type": "stream",
     "text": [
      "C:\\Users\\au481503\\Anaconda3\\lib\\site-packages\\ipykernel_launcher.py:1: RuntimeWarning: More than 20 figures have been opened. Figures created through the pyplot interface (`matplotlib.pyplot.figure`) are retained until explicitly closed and may consume too much memory. (To control this warning, see the rcParam `figure.max_open_warning`).\n",
      "  \"\"\"Entry point for launching an IPython kernel.\n"
     ]
    },
    {
     "data": {
      "application/vnd.jupyter.widget-view+json": {
       "model_id": "6eadbce13067472cb40a20d7c7addce7",
       "version_major": 2,
       "version_minor": 0
      },
      "text/plain": [
       "Canvas(toolbar=Toolbar(toolitems=[('Home', 'Reset original view', 'home', 'home'), ('Back', 'Back to previous …"
      ]
     },
     "metadata": {},
     "output_type": "display_data"
    }
   ],
   "source": [
    "fig = plt.figure()\n",
    "ax = fig.add_subplot(111,projection='3d')\n",
    "for i in range(200):\n",
    "    ax.plot_wireframe(*torus_chart_learning(torus[:,[i]],0.5,0.5),color = 'lightcoral',alpha = 0.3)\n",
    "#ax.scatter(*torus)"
   ]
  },
  {
   "cell_type": "code",
   "execution_count": null,
   "metadata": {},
   "outputs": [],
   "source": []
  },
  {
   "cell_type": "markdown",
   "metadata": {},
   "source": [
    "### Attempting to find transition functions"
   ]
  },
  {
   "cell_type": "markdown",
   "metadata": {},
   "source": [
    "I spend some time attempting to find a way to connect the charts, but my attempts was not feasible in higher dimensions than 1."
   ]
  },
  {
   "cell_type": "code",
   "execution_count": 135,
   "metadata": {},
   "outputs": [],
   "source": [
    "def reparam_pol(A, koef,t):\n",
    "    #roots1 = np.zeros((len(t),2))\n",
    "    t = t*np.sqrt(1+A**2)\n",
    "    roots = np.zeros((len(t),2))\n",
    "    for i in range(len(t)):\n",
    "        roots[i]=np.roots(np.array([A*koef[0],A*koef[1]+1,A*koef[2]-t[i]]).flatten())\n",
    "    Y1 = ((A*roots[:,0])[:,np.newaxis]-np.vander(roots[:,0],3)@koef)/np.sqrt(1+A**2)\n",
    "    Y2 = ((A*roots[:,1])[:,np.newaxis]-np.vander(roots[:,1],3)@koef)/np.sqrt(1+A**2) \n",
    "    return Y1, Y2\n",
    "\n",
    "def transition(pt1,pt2,u1,u2,koef1,koef2):\n",
    "    C = np.linalg.norm(pt1-pt2)\n",
    "    t = np.linspace(0,C,50)\n",
    "    \n",
    "    L1 = u1.T@(pt2-pt1)\n",
    "    L2 = u2.T@(pt1-pt2)\n",
    "    \n",
    "    A1 = float(L1[1]/L1[0])\n",
    "    A2 = float(L2[1]/L2[0])\n",
    "\n",
    "    V1 = np.array([[1,A1],[A1,-1]])/np.sqrt(1+A1**2)\n",
    "    V2 = np.array([[1,A2],[A2,-1]])/np.sqrt(1+A2**2)\n",
    "    \n",
    "    V1_ = u1@V1\n",
    "    V2_ = u2@V2\n",
    "    \n",
    "    s1 = np.sign(np.inner(V1_[:,0],(pt2-pt1).flatten()))\n",
    "    s2 = np.sign(np.inner(V2_[:,0],(pt1-pt2).flatten()))\n",
    "    s3 = np.sign(np.inner(V1_[:,1],V2_[:,1]))\n",
    "    \n",
    "\n",
    "    y11, y12 = reparam_pol(A1,koef1,s1*t)\n",
    "    y21, y22 = reparam_pol(A2,koef2,s2*(C-t))\n",
    "\n",
    "    re_1 = u1@V1@np.vstack((s1*t,y12.flatten()))+pt1\n",
    "    re_2 = u2@V2@np.vstack((s2*(C-t),y22.flatten())) + pt2\n",
    "    eps = 0.1*C\n",
    "    bump = bump_func(t,eps,C-eps)\n",
    "\n",
    "    Y = bump*y12.flatten() + s3*(1-bump)*(y22.flatten())\n",
    "    re_n = u1@V1@np.vstack((s1*t,Y))+pt1\n",
    "    return re_n,t\n",
    "\n",
    "def curvature(a,t):\n",
    "    a_dot = np.gradient(a,t ,axis = 1)\n",
    "    a_do_dot = np.gradient(a_dot, t,axis =1)\n",
    "    curv = np.divide(-np.cross(a_do_dot,a_dot,axisa =0, axisb = 0 )[:,2], np.linalg.norm(a_dot,axis = 0)**3)\n",
    "    return curv\n",
    "\n",
    "K = 0.635\n",
    "def bump_func(t,r1,r2):\n",
    "    def f(t):\n",
    "        f = np.zeros(len(t))\n",
    "        for i in range(len(t)):\n",
    "            if t[i]>0:\n",
    "                f[i] = np.exp(-K/t[i])\n",
    "        return f\n",
    "    up = np.divide(f(r2-t),(f(r2-t)+f(t-r1)))\n",
    "    return up\n"
   ]
  },
  {
   "cell_type": "code",
   "execution_count": 142,
   "metadata": {},
   "outputs": [],
   "source": [
    "def plot_transition(input_1,input_2):\n",
    "    x0 = np.array([[np.cos(input_1)],[np.sin(input_1)]])\n",
    "    x1 = np.array([[np.cos(input_2)],[np.sin(input_2)]])\n",
    "\n",
    "    coef_0, u_0 = quad_fit(circle,x0,1,0.5)\n",
    "    coef_1, u_1 = quad_fit(circle,x1,1,0.5)\n",
    "\n",
    "    new_func, new_func_input = transition(x0,x1,u_0,u_1,coef_0,coef_1)\n",
    "\n",
    "    fig,ax = plt.subplots()\n",
    "    ax.axis('equal')\n",
    "    \n",
    "    ax.scatter(*circle,alpha = 0.5)\n",
    "    ax.plot(*(chart(x0,u_0,coef_0,np.linspace(-1,1,20)[np.newaxis])))\n",
    "    ax.plot(*chart(x1,u_1,coef_1,np.linspace(-1,1,20)[np.newaxis]))\n",
    "    ax.scatter(*x0,color='lightcoral', s=100)\n",
    "    ax.scatter(*x1,color = 'aqua', s = 100)\n",
    "    \n",
    "    ax.plot(*new_func, color = 'deeppink')"
   ]
  },
  {
   "cell_type": "code",
   "execution_count": 143,
   "metadata": {},
   "outputs": [
    {
     "name": "stderr",
     "output_type": "stream",
     "text": [
      "C:\\Users\\au481503\\Anaconda3\\lib\\site-packages\\ipykernel_launcher.py:10: RuntimeWarning: More than 20 figures have been opened. Figures created through the pyplot interface (`matplotlib.pyplot.figure`) are retained until explicitly closed and may consume too much memory. (To control this warning, see the rcParam `figure.max_open_warning`).\n",
      "  # Remove the CWD from sys.path while we load stuff.\n"
     ]
    },
    {
     "data": {
      "application/vnd.jupyter.widget-view+json": {
       "model_id": "fd6526ec19eb426ea4db1c50b30fcfa7",
       "version_major": 2,
       "version_minor": 0
      },
      "text/plain": [
       "Canvas(toolbar=Toolbar(toolitems=[('Home', 'Reset original view', 'home', 'home'), ('Back', 'Back to previous …"
      ]
     },
     "metadata": {},
     "output_type": "display_data"
    },
    {
     "name": "stdout",
     "output_type": "stream",
     "text": [
      "[[ True  True]\n",
      " [ True  True]]\n"
     ]
    }
   ],
   "source": [
    "plot_transition(6*np.pi/8,np.pi/4)"
   ]
  },
  {
   "cell_type": "code",
   "execution_count": 138,
   "metadata": {
    "scrolled": true
   },
   "outputs": [
    {
     "name": "stderr",
     "output_type": "stream",
     "text": [
      "C:\\Users\\au481503\\Anaconda3\\lib\\site-packages\\ipykernel_launcher.py:10: RuntimeWarning: More than 20 figures have been opened. Figures created through the pyplot interface (`matplotlib.pyplot.figure`) are retained until explicitly closed and may consume too much memory. (To control this warning, see the rcParam `figure.max_open_warning`).\n",
      "  # Remove the CWD from sys.path while we load stuff.\n"
     ]
    },
    {
     "data": {
      "application/vnd.jupyter.widget-view+json": {
       "model_id": "3224bc0dd95a4b658809b5162abc0731",
       "version_major": 2,
       "version_minor": 0
      },
      "text/plain": [
       "Canvas(toolbar=Toolbar(toolitems=[('Home', 'Reset original view', 'home', 'home'), ('Back', 'Back to previous …"
      ]
     },
     "metadata": {},
     "output_type": "display_data"
    }
   ],
   "source": [
    "plot_transition(0,3.5*np.pi/4)"
   ]
  },
  {
   "cell_type": "code",
   "execution_count": 139,
   "metadata": {},
   "outputs": [
    {
     "name": "stderr",
     "output_type": "stream",
     "text": [
      "C:\\Users\\au481503\\Anaconda3\\lib\\site-packages\\ipykernel_launcher.py:10: RuntimeWarning: More than 20 figures have been opened. Figures created through the pyplot interface (`matplotlib.pyplot.figure`) are retained until explicitly closed and may consume too much memory. (To control this warning, see the rcParam `figure.max_open_warning`).\n",
      "  # Remove the CWD from sys.path while we load stuff.\n"
     ]
    },
    {
     "data": {
      "application/vnd.jupyter.widget-view+json": {
       "model_id": "73c6ba7b588348b8b92394e05285a3df",
       "version_major": 2,
       "version_minor": 0
      },
      "text/plain": [
       "Canvas(toolbar=Toolbar(toolitems=[('Home', 'Reset original view', 'home', 'home'), ('Back', 'Back to previous …"
      ]
     },
     "metadata": {},
     "output_type": "display_data"
    }
   ],
   "source": [
    "plot_transition(2*np.pi/3,np.pi/3)"
   ]
  },
  {
   "cell_type": "code",
   "execution_count": null,
   "metadata": {},
   "outputs": [],
   "source": []
  }
 ],
 "metadata": {
  "kernelspec": {
   "display_name": "Python 3",
   "language": "python",
   "name": "python3"
  },
  "language_info": {
   "codemirror_mode": {
    "name": "ipython",
    "version": 3
   },
   "file_extension": ".py",
   "mimetype": "text/x-python",
   "name": "python",
   "nbconvert_exporter": "python",
   "pygments_lexer": "ipython3",
   "version": "3.7.6"
  }
 },
 "nbformat": 4,
 "nbformat_minor": 4
}
